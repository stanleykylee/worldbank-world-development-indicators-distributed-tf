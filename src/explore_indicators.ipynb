{
 "cells": [
  {
   "cell_type": "markdown",
   "metadata": {},
   "source": [
    "After taking a look at WDI_Data.csv, it seems many of the indicators are missing significant amounts of data. Let's go through the the data set and take count of how often each indicator is non-empty"
   ]
  },
  {
   "cell_type": "code",
   "execution_count": 10,
   "metadata": {
    "collapsed": true
   },
   "outputs": [],
   "source": [
    "import csv\n",
    "\n",
    "count_dict = {}\n",
    "\n",
    "with open('WDI_Data.csv', 'rb') as csv_file:\n",
    "    csv_reader = csv.reader(csv_file, delimiter=',')\n",
    "    idx = 0\n",
    "    for row in csv_reader:\n",
    "        # skip first row\n",
    "        if (idx == 0):\n",
    "            idx += 1\n",
    "            continue\n",
    "        # indicator name for this row\n",
    "        ind_name = row[3]\n",
    "        row_idx = 0 # where we are at within row\n",
    "        for item in row:\n",
    "            if row_idx > 3 and item != '':\n",
    "                # this is a valid, non-empty entry\n",
    "                if ind_name not in count_dict:\n",
    "                    count_dict[ind_name] = 0\n",
    "                count_dict[ind_name] += 1\n",
    "            row_idx += 1\n",
    "        idx += 1\n",
    "            "
   ]
  },
  {
   "cell_type": "markdown",
   "metadata": {},
   "source": [
    "We've counted the number of entries for each indicator and stored them in `count_dict`. Let's sort the dictionary by value and print the top 25 entries."
   ]
  },
  {
   "cell_type": "code",
   "execution_count": 15,
   "metadata": {
    "collapsed": false
   },
   "outputs": [
    {
     "name": "stdout",
     "output_type": "stream",
     "text": [
      "('SP.POP.TOTL', 14623)\n",
      "('SP.POP.GROW', 14569)\n",
      "('SP.RUR.TOTL.ZS', 14552)\n",
      "('SP.URB.TOTL.IN.ZS', 14552)\n",
      "('SP.URB.TOTL', 14511)\n",
      "('SP.RUR.TOTL', 14511)\n",
      "('SP.URB.GROW', 14461)\n",
      "('AG.SRF.TOTL.K2', 14185)\n",
      "('AG.LND.TOTL.K2', 14180)\n",
      "('SP.RUR.TOTL.ZG', 14122)\n",
      "('EN.POP.DNST', 14111)\n",
      "('SP.DYN.CBRT.IN', 13480)\n",
      "('SP.ADO.TFRT', 13440)\n",
      "('SP.DYN.CDRT.IN', 13440)\n",
      "('SP.POP.1564.TO.ZS', 13378)\n",
      "('SP.POP.TOTL.FE.ZS', 13378)\n",
      "('SP.POP.0014.TO.ZS', 13378)\n",
      "('SP.POP.65UP.TO.ZS', 13378)\n",
      "('SP.POP.DPND.YG', 13375)\n",
      "('SP.POP.DPND.OL', 13375)\n",
      "('SP.POP.DPND', 13375)\n",
      "('SP.DYN.TFRT.IN', 13274)\n",
      "('SP.DYN.LE00.FE.IN', 13253)\n",
      "('SP.DYN.LE00.MA.IN', 13253)\n",
      "('SP.DYN.LE00.IN', 13253)\n"
     ]
    }
   ],
   "source": [
    "import operator\n",
    "sorted_dict = sorted(count_dict.items(), key=operator.itemgetter(1))\n",
    "# descending order would be nicer\n",
    "sorted_dict.reverse()\n",
    "# print the top 25\n",
    "idx = 0\n",
    "for key in sorted_dict:\n",
    "    if idx > 24:\n",
    "        break\n",
    "    print key\n",
    "    idx += 1"
   ]
  },
  {
   "cell_type": "markdown",
   "metadata": {},
   "source": [
    "These indicators seem to be very densely populated in our dataset. It would be interesting to use some of these indicators and build a model to predict population growth rate."
   ]
  },
  {
   "cell_type": "code",
   "execution_count": null,
   "metadata": {
    "collapsed": true
   },
   "outputs": [],
   "source": []
  }
 ],
 "metadata": {
  "kernelspec": {
   "display_name": "Python 2",
   "language": "python",
   "name": "python2"
  },
  "language_info": {
   "codemirror_mode": {
    "name": "ipython",
    "version": 2
   },
   "file_extension": ".py",
   "mimetype": "text/x-python",
   "name": "python",
   "nbconvert_exporter": "python",
   "pygments_lexer": "ipython2",
   "version": "2.7.10"
  }
 },
 "nbformat": 4,
 "nbformat_minor": 0
}
